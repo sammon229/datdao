{
 "cells": [
  {
   "cell_type": "markdown",
   "metadata": {},
   "source": [
    "# Leveraging Machine Learning to Optimize Real Estate Valuation in King County"
   ]
  },
  {
   "cell_type": "markdown",
   "metadata": {},
   "source": [
    "The real estate industry is a complicated and crucial component of the economy, with far-reaching consequences for a wide range of players, including house buyers and sellers, real estate brokers, builders, and investors. The appropriate valuation of properties is a vital feature of the real estate market since it serves as the foundation for decision-making for all parties involved. Inaccurate or out-of-date values can lead to unfair deals, missing opportunities, and decreased market efficiency, whereas accurate appraisals encourage market openness and confidence.\n",
    "Machine learning has developed as a strong tool for tackling complicated issues in a variety of sectors, including real estate, in recent years. It is now feasible to construct predictive models that can give reliable, data-driven estimations of property values by utilizing machine learning techniques and massive datasets, allowing stakeholders to make better-informed decisions. The goal of this research is to apply machine learning to create a prediction model for projecting property values in King County, which includes Seattle.\n",
    "\n",
    "Dataset:\n",
    "The dataset includes property selling prices in King County from May 2014 to May 2015. It contains 21 columns, including unique property identifiers, sale dates, prices, and various property features such as the number of bedrooms, bathrooms, square footage of living and lot spaces, and more.\n",
    "\n",
    "Objective:\n",
    "The major purpose of this research is to create a strong and accurate machine-learning model that can forecast house prices using the dataset's available attributes. We can give significant insights and support to home buyers, sellers, real estate brokers, and investors by precisely evaluating property values, allowing them to make better-informed real estate decisions. Furthermore, by guaranteeing that all parties involved have access to trustworthy, data-driven appraisals, such a model can lead to enhanced market openness and confidence.\n",
    "\n",
    "We will use a complete technique that involves data exploration, feature engineering, model selection and assessment, model tuning, and model interpretation and validation to achieve this goal. Our ultimate objective is to discover the most significant factors and create a model that can properly anticipate home values, improving the efficiency and transparency of the King County real estate market."
   ]
  },
  {
   "cell_type": "code",
   "execution_count": 1,
   "metadata": {},
   "outputs": [],
   "source": [
    "import numpy as np\n",
    "import pandas as pd\n",
    "import matplotlib.pyplot as plt\n",
    "import seaborn as sns\n",
    "import scipy.stats as stats\n",
    "import sklearn as sk\n",
    "import warnings\n",
    "\n",
    "# Ignore warning messages\n",
    "warnings.filterwarnings('ignore')\n",
    "\n",
    "sns.set()"
   ]
  },
  {
   "cell_type": "code",
   "execution_count": 2,
   "metadata": {},
   "outputs": [
    {
     "data": {
      "text/plain": [
       "(21613, 21)"
      ]
     },
     "execution_count": 2,
     "metadata": {},
     "output_type": "execute_result"
    }
   ],
   "source": [
    "# Load data to df \n",
    "df=pd.read_csv('C:/Users/danie/OneDrive/Documents/Study/DSC550 Data Mining/Term Project/kc_house_data.csv')\n",
    "df.shape"
   ]
  },
  {
   "cell_type": "code",
   "execution_count": 3,
   "metadata": {},
   "outputs": [
    {
     "data": {
      "text/html": [
       "<div>\n",
       "<style scoped>\n",
       "    .dataframe tbody tr th:only-of-type {\n",
       "        vertical-align: middle;\n",
       "    }\n",
       "\n",
       "    .dataframe tbody tr th {\n",
       "        vertical-align: top;\n",
       "    }\n",
       "\n",
       "    .dataframe thead th {\n",
       "        text-align: right;\n",
       "    }\n",
       "</style>\n",
       "<table border=\"1\" class=\"dataframe\">\n",
       "  <thead>\n",
       "    <tr style=\"text-align: right;\">\n",
       "      <th></th>\n",
       "      <th>id</th>\n",
       "      <th>date</th>\n",
       "      <th>price</th>\n",
       "      <th>bedrooms</th>\n",
       "      <th>bathrooms</th>\n",
       "      <th>sqft_living</th>\n",
       "      <th>sqft_lot</th>\n",
       "      <th>floors</th>\n",
       "      <th>waterfront</th>\n",
       "      <th>view</th>\n",
       "      <th>...</th>\n",
       "      <th>grade</th>\n",
       "      <th>sqft_above</th>\n",
       "      <th>sqft_basement</th>\n",
       "      <th>yr_built</th>\n",
       "      <th>yr_renovated</th>\n",
       "      <th>zipcode</th>\n",
       "      <th>lat</th>\n",
       "      <th>long</th>\n",
       "      <th>sqft_living15</th>\n",
       "      <th>sqft_lot15</th>\n",
       "    </tr>\n",
       "  </thead>\n",
       "  <tbody>\n",
       "    <tr>\n",
       "      <th>0</th>\n",
       "      <td>7129300520</td>\n",
       "      <td>20141013T000000</td>\n",
       "      <td>221900.0</td>\n",
       "      <td>3</td>\n",
       "      <td>1.00</td>\n",
       "      <td>1180</td>\n",
       "      <td>5650</td>\n",
       "      <td>1.0</td>\n",
       "      <td>0</td>\n",
       "      <td>0</td>\n",
       "      <td>...</td>\n",
       "      <td>7</td>\n",
       "      <td>1180</td>\n",
       "      <td>0</td>\n",
       "      <td>1955</td>\n",
       "      <td>0</td>\n",
       "      <td>98178</td>\n",
       "      <td>47.5112</td>\n",
       "      <td>-122.257</td>\n",
       "      <td>1340</td>\n",
       "      <td>5650</td>\n",
       "    </tr>\n",
       "    <tr>\n",
       "      <th>1</th>\n",
       "      <td>6414100192</td>\n",
       "      <td>20141209T000000</td>\n",
       "      <td>538000.0</td>\n",
       "      <td>3</td>\n",
       "      <td>2.25</td>\n",
       "      <td>2570</td>\n",
       "      <td>7242</td>\n",
       "      <td>2.0</td>\n",
       "      <td>0</td>\n",
       "      <td>0</td>\n",
       "      <td>...</td>\n",
       "      <td>7</td>\n",
       "      <td>2170</td>\n",
       "      <td>400</td>\n",
       "      <td>1951</td>\n",
       "      <td>1991</td>\n",
       "      <td>98125</td>\n",
       "      <td>47.7210</td>\n",
       "      <td>-122.319</td>\n",
       "      <td>1690</td>\n",
       "      <td>7639</td>\n",
       "    </tr>\n",
       "    <tr>\n",
       "      <th>2</th>\n",
       "      <td>5631500400</td>\n",
       "      <td>20150225T000000</td>\n",
       "      <td>180000.0</td>\n",
       "      <td>2</td>\n",
       "      <td>1.00</td>\n",
       "      <td>770</td>\n",
       "      <td>10000</td>\n",
       "      <td>1.0</td>\n",
       "      <td>0</td>\n",
       "      <td>0</td>\n",
       "      <td>...</td>\n",
       "      <td>6</td>\n",
       "      <td>770</td>\n",
       "      <td>0</td>\n",
       "      <td>1933</td>\n",
       "      <td>0</td>\n",
       "      <td>98028</td>\n",
       "      <td>47.7379</td>\n",
       "      <td>-122.233</td>\n",
       "      <td>2720</td>\n",
       "      <td>8062</td>\n",
       "    </tr>\n",
       "    <tr>\n",
       "      <th>3</th>\n",
       "      <td>2487200875</td>\n",
       "      <td>20141209T000000</td>\n",
       "      <td>604000.0</td>\n",
       "      <td>4</td>\n",
       "      <td>3.00</td>\n",
       "      <td>1960</td>\n",
       "      <td>5000</td>\n",
       "      <td>1.0</td>\n",
       "      <td>0</td>\n",
       "      <td>0</td>\n",
       "      <td>...</td>\n",
       "      <td>7</td>\n",
       "      <td>1050</td>\n",
       "      <td>910</td>\n",
       "      <td>1965</td>\n",
       "      <td>0</td>\n",
       "      <td>98136</td>\n",
       "      <td>47.5208</td>\n",
       "      <td>-122.393</td>\n",
       "      <td>1360</td>\n",
       "      <td>5000</td>\n",
       "    </tr>\n",
       "    <tr>\n",
       "      <th>4</th>\n",
       "      <td>1954400510</td>\n",
       "      <td>20150218T000000</td>\n",
       "      <td>510000.0</td>\n",
       "      <td>3</td>\n",
       "      <td>2.00</td>\n",
       "      <td>1680</td>\n",
       "      <td>8080</td>\n",
       "      <td>1.0</td>\n",
       "      <td>0</td>\n",
       "      <td>0</td>\n",
       "      <td>...</td>\n",
       "      <td>8</td>\n",
       "      <td>1680</td>\n",
       "      <td>0</td>\n",
       "      <td>1987</td>\n",
       "      <td>0</td>\n",
       "      <td>98074</td>\n",
       "      <td>47.6168</td>\n",
       "      <td>-122.045</td>\n",
       "      <td>1800</td>\n",
       "      <td>7503</td>\n",
       "    </tr>\n",
       "  </tbody>\n",
       "</table>\n",
       "<p>5 rows × 21 columns</p>\n",
       "</div>"
      ],
      "text/plain": [
       "           id             date     price  bedrooms  bathrooms  sqft_living  \\\n",
       "0  7129300520  20141013T000000  221900.0         3       1.00         1180   \n",
       "1  6414100192  20141209T000000  538000.0         3       2.25         2570   \n",
       "2  5631500400  20150225T000000  180000.0         2       1.00          770   \n",
       "3  2487200875  20141209T000000  604000.0         4       3.00         1960   \n",
       "4  1954400510  20150218T000000  510000.0         3       2.00         1680   \n",
       "\n",
       "   sqft_lot  floors  waterfront  view  ...  grade  sqft_above  sqft_basement  \\\n",
       "0      5650     1.0           0     0  ...      7        1180              0   \n",
       "1      7242     2.0           0     0  ...      7        2170            400   \n",
       "2     10000     1.0           0     0  ...      6         770              0   \n",
       "3      5000     1.0           0     0  ...      7        1050            910   \n",
       "4      8080     1.0           0     0  ...      8        1680              0   \n",
       "\n",
       "   yr_built  yr_renovated  zipcode      lat     long  sqft_living15  \\\n",
       "0      1955             0    98178  47.5112 -122.257           1340   \n",
       "1      1951          1991    98125  47.7210 -122.319           1690   \n",
       "2      1933             0    98028  47.7379 -122.233           2720   \n",
       "3      1965             0    98136  47.5208 -122.393           1360   \n",
       "4      1987             0    98074  47.6168 -122.045           1800   \n",
       "\n",
       "   sqft_lot15  \n",
       "0        5650  \n",
       "1        7639  \n",
       "2        8062  \n",
       "3        5000  \n",
       "4        7503  \n",
       "\n",
       "[5 rows x 21 columns]"
      ]
     },
     "execution_count": 3,
     "metadata": {},
     "output_type": "execute_result"
    }
   ],
   "source": [
    "# Remove NA rows\n",
    "df.dropna(axis=0)\n",
    "df.head()"
   ]
  },
  {
   "cell_type": "code",
   "execution_count": 4,
   "metadata": {},
   "outputs": [
    {
     "data": {
      "text/plain": [
       "id                 int64\n",
       "date              object\n",
       "price            float64\n",
       "bedrooms           int64\n",
       "bathrooms        float64\n",
       "sqft_living        int64\n",
       "sqft_lot           int64\n",
       "floors           float64\n",
       "waterfront         int64\n",
       "view               int64\n",
       "condition          int64\n",
       "grade              int64\n",
       "sqft_above         int64\n",
       "sqft_basement      int64\n",
       "yr_built           int64\n",
       "yr_renovated       int64\n",
       "zipcode            int64\n",
       "lat              float64\n",
       "long             float64\n",
       "sqft_living15      int64\n",
       "sqft_lot15         int64\n",
       "dtype: object"
      ]
     },
     "execution_count": 4,
     "metadata": {},
     "output_type": "execute_result"
    }
   ],
   "source": [
    "df.dtypes"
   ]
  },
  {
   "cell_type": "code",
   "execution_count": 5,
   "metadata": {},
   "outputs": [
    {
     "data": {
      "text/plain": [
       "Index(['id', 'date', 'price', 'bedrooms', 'bathrooms', 'sqft_living',\n",
       "       'sqft_lot', 'floors', 'waterfront', 'view', 'condition', 'grade',\n",
       "       'sqft_above', 'sqft_basement', 'yr_built', 'yr_renovated', 'zipcode',\n",
       "       'lat', 'long', 'sqft_living15', 'sqft_lot15'],\n",
       "      dtype='object')"
      ]
     },
     "execution_count": 5,
     "metadata": {},
     "output_type": "execute_result"
    }
   ],
   "source": [
    "df.columns"
   ]
  },
  {
   "cell_type": "code",
   "execution_count": 6,
   "metadata": {},
   "outputs": [
    {
     "data": {
      "text/plain": [
       "id                 int64\n",
       "date              object\n",
       "price            float64\n",
       "bedrooms           int64\n",
       "bathrooms        float64\n",
       "sqft_living        int64\n",
       "sqft_lot           int64\n",
       "floors           float64\n",
       "waterfront         int64\n",
       "view               int64\n",
       "condition          int64\n",
       "grade              int64\n",
       "sqft_above         int64\n",
       "sqft_basement      int64\n",
       "yr_built           int64\n",
       "yr_renovated       int64\n",
       "zipcode            int64\n",
       "lat              float64\n",
       "long             float64\n",
       "sqft_living15      int64\n",
       "sqft_lot15         int64\n",
       "dtype: object"
      ]
     },
     "execution_count": 6,
     "metadata": {},
     "output_type": "execute_result"
    }
   ],
   "source": [
    "# Convert columns to desired format\n",
    "df['date'] = pd.to_datetime(df['date']).dt.strftime('%Y/%m/%d')\n",
    "\n",
    "df.dtypes\n"
   ]
  },
  {
   "cell_type": "markdown",
   "metadata": {},
   "source": [
    "Since the housing price is affeted by seasonal reason, we should consider to split date column into month and year."
   ]
  },
  {
   "cell_type": "code",
   "execution_count": 7,
   "metadata": {},
   "outputs": [],
   "source": [
    "# Convert 'date' to datetime format\n",
    "df['date'] = pd.to_datetime(df['date'])\n",
    "\n",
    "# Create new 'year' and 'month' columns\n",
    "df['year'] = df['date'].dt.year\n",
    "df['month'] = df['date'].dt.month\n",
    "\n",
    "# Drop the original 'date' column\n",
    "df = df.drop('date', axis=1)\n"
   ]
  },
  {
   "cell_type": "markdown",
   "metadata": {},
   "source": [
    "Zipcode can be a useful feature in a housing prediction model as it can provide information about the location of the property, which can affect its value. To be simple, we convert zipcodes to its bins of 5 based on its avarage price."
   ]
  },
  {
   "cell_type": "code",
   "execution_count": 8,
   "metadata": {},
   "outputs": [
    {
     "data": {
      "text/html": [
       "<div>\n",
       "<style scoped>\n",
       "    .dataframe tbody tr th:only-of-type {\n",
       "        vertical-align: middle;\n",
       "    }\n",
       "\n",
       "    .dataframe tbody tr th {\n",
       "        vertical-align: top;\n",
       "    }\n",
       "\n",
       "    .dataframe thead th {\n",
       "        text-align: right;\n",
       "    }\n",
       "</style>\n",
       "<table border=\"1\" class=\"dataframe\">\n",
       "  <thead>\n",
       "    <tr style=\"text-align: right;\">\n",
       "      <th></th>\n",
       "      <th>zipcode</th>\n",
       "      <th>price</th>\n",
       "    </tr>\n",
       "  </thead>\n",
       "  <tbody>\n",
       "    <tr>\n",
       "      <th>0</th>\n",
       "      <td>98001</td>\n",
       "      <td>2.808047e+05</td>\n",
       "    </tr>\n",
       "    <tr>\n",
       "      <th>1</th>\n",
       "      <td>98002</td>\n",
       "      <td>2.342840e+05</td>\n",
       "    </tr>\n",
       "    <tr>\n",
       "      <th>2</th>\n",
       "      <td>98003</td>\n",
       "      <td>2.941113e+05</td>\n",
       "    </tr>\n",
       "    <tr>\n",
       "      <th>3</th>\n",
       "      <td>98004</td>\n",
       "      <td>1.355927e+06</td>\n",
       "    </tr>\n",
       "    <tr>\n",
       "      <th>4</th>\n",
       "      <td>98005</td>\n",
       "      <td>8.101649e+05</td>\n",
       "    </tr>\n",
       "    <tr>\n",
       "      <th>...</th>\n",
       "      <td>...</td>\n",
       "      <td>...</td>\n",
       "    </tr>\n",
       "    <tr>\n",
       "      <th>65</th>\n",
       "      <td>98177</td>\n",
       "      <td>6.761854e+05</td>\n",
       "    </tr>\n",
       "    <tr>\n",
       "      <th>66</th>\n",
       "      <td>98178</td>\n",
       "      <td>3.106128e+05</td>\n",
       "    </tr>\n",
       "    <tr>\n",
       "      <th>67</th>\n",
       "      <td>98188</td>\n",
       "      <td>2.890783e+05</td>\n",
       "    </tr>\n",
       "    <tr>\n",
       "      <th>68</th>\n",
       "      <td>98198</td>\n",
       "      <td>3.028789e+05</td>\n",
       "    </tr>\n",
       "    <tr>\n",
       "      <th>69</th>\n",
       "      <td>98199</td>\n",
       "      <td>7.918208e+05</td>\n",
       "    </tr>\n",
       "  </tbody>\n",
       "</table>\n",
       "<p>70 rows × 2 columns</p>\n",
       "</div>"
      ],
      "text/plain": [
       "    zipcode         price\n",
       "0     98001  2.808047e+05\n",
       "1     98002  2.342840e+05\n",
       "2     98003  2.941113e+05\n",
       "3     98004  1.355927e+06\n",
       "4     98005  8.101649e+05\n",
       "..      ...           ...\n",
       "65    98177  6.761854e+05\n",
       "66    98178  3.106128e+05\n",
       "67    98188  2.890783e+05\n",
       "68    98198  3.028789e+05\n",
       "69    98199  7.918208e+05\n",
       "\n",
       "[70 rows x 2 columns]"
      ]
     },
     "execution_count": 8,
     "metadata": {},
     "output_type": "execute_result"
    }
   ],
   "source": [
    "# Calculate mean price for each zipcode and reset the index\n",
    "zipcode_price = df.groupby('zipcode').mean()['price'].reset_index()\n",
    "\n",
    "# Create a new dataframe that maps zipcode to its corresponding bin\n",
    "zipcode_bins = pd.DataFrame({\n",
    "    'zipcode': zipcode_price['zipcode'],\n",
    "    'zipcode_bin': pd.qcut(zipcode_price['price'], q=5, labels=range(5))\n",
    "})\n",
    "\n",
    "# Merge the original dataframe with the bins dataframe\n",
    "df = pd.merge(df, zipcode_bins, on='zipcode', how='left')\n",
    "\n",
    "# Convert the 'zipcode_bin' column to integer type\n",
    "df['zipcode_bin'] = df['zipcode_bin'].astype(int)\n",
    "\n",
    "# Drop the original 'Zipcode' column\n",
    "df = df.drop('zipcode', axis=1)\n",
    "\n",
    "# View zipcode bins\n",
    "zipcode_price"
   ]
  },
  {
   "cell_type": "code",
   "execution_count": 9,
   "metadata": {},
   "outputs": [
    {
     "data": {
      "image/png": "[encoded data removed]",
      "text/plain": [
       "<Figure size 640x480 with 1 Axes>"
      ]
     },
     "metadata": {},
     "output_type": "display_data"
    }
   ],
   "source": [
    "# Group by month and plot mean price\n",
    "df.groupby('month').mean()['price'].plot()\n",
    "\n",
    "# Add labels and title\n",
    "plt.xlabel('Month')\n",
    "plt.ylabel('Price')\n",
    "plt.title('Price Trends')\n",
    "\n",
    "# Remove spines\n",
    "sns.despine(left=True, bottom=True)\n",
    "\n",
    "# Display the plot\n",
    "plt.show()"
   ]
  },
  {
   "cell_type": "code",
   "execution_count": 10,
   "metadata": {},
   "outputs": [
    {
     "data": {
      "image/png": "[encoded data removed]",
      "text/plain": [
       "<Figure size 1200x600 with 1 Axes>"
      ]
     },
     "metadata": {},
     "output_type": "display_data"
    }
   ],
   "source": [
    "# Calculate the correlation coefficients between 'price' and all other features\n",
    "price_correlations = df.corr()['price'].drop('price')\n",
    "\n",
    "# Create a bar chart\n",
    "plt.figure(figsize=(12, 6))\n",
    "price_correlations.plot(kind='bar')\n",
    "plt.xlabel('Features')\n",
    "plt.ylabel('Correlation Coefficient')\n",
    "plt.title('Correlation Coefficients between Price and Features')\n",
    "plt.show()"
   ]
  },
  {
   "cell_type": "code",
   "execution_count": 11,
   "metadata": {},
   "outputs": [
    {
     "data": {
      "image/png": "[encoded data removed]",
      "text/plain": [
       "<Figure size 1000x600 with 1 Axes>"
      ]
     },
     "metadata": {},
     "output_type": "display_data"
    }
   ],
   "source": [
    "# Graph 2: Scatterplot - Price vs. Sqft_Living\n",
    "plt.figure(figsize=(10, 6))\n",
    "plt.scatter(df['sqft_living'], df['price'])\n",
    "plt.xlabel('Sqft Living')\n",
    "plt.ylabel('Price')\n",
    "plt.title('Scatterplot - Price vs. Sqft_Living')\n",
    "plt.show()"
   ]
  },
  {
   "cell_type": "code",
   "execution_count": 12,
   "metadata": {},
   "outputs": [
    {
     "data": {
      "image/png": "[encoded data removed]",
      "text/plain": [
       "<Figure size 1000x600 with 1 Axes>"
      ]
     },
     "metadata": {},
     "output_type": "display_data"
    }
   ],
   "source": [
    "# Graph 3: Boxplot - Price Distribution by Grade\n",
    "plt.figure(figsize=(10, 6))\n",
    "sns.boxplot(x='grade', y='price', data=df)\n",
    "plt.xlabel('Grade')\n",
    "plt.ylabel('Price')\n",
    "plt.title('Boxplot - Price Distribution by Grade')\n",
    "plt.show()"
   ]
  },
  {
   "cell_type": "code",
   "execution_count": 13,
   "metadata": {},
   "outputs": [
    {
     "data": {
      "image/png": "[encoded data removed]",
      "text/plain": [
       "<Figure size 2000x1000 with 2 Axes>"
      ]
     },
     "metadata": {},
     "output_type": "display_data"
    }
   ],
   "source": [
    "fig, axes = plt.subplots(nrows=1, ncols=2, figsize=(20, 10))\n",
    "\n",
    "# Box plot for 'waterfront' vs 'price'\n",
    "sns.boxplot(x='waterfront', y='price', data=df, ax=axes[0])\n",
    "axes[0].set_title('Waterfront vs Price Box Plot')\n",
    "axes[0].set_xlabel('Waterfront')\n",
    "axes[0].set_ylabel('Price')\n",
    "\n",
    "# Box plot for 'view' vs 'price'\n",
    "sns.boxplot(x='view', y='price', data=df, ax=axes[1])\n",
    "axes[1].set_title('View vs Price Box Plot')\n",
    "axes[1].set_xlabel('View')\n",
    "axes[1].set_ylabel('Price')\n",
    "\n",
    "# Remove the top and right spines from all plots\n",
    "for ax in axes:\n",
    "    sns.despine(ax=ax)\n",
    "\n",
    "# Display the plots\n",
    "plt.tight_layout()\n",
    "plt.show()\n"
   ]
  },
  {
   "cell_type": "code",
   "execution_count": 14,
   "metadata": {},
   "outputs": [
    {
     "data": {
      "image/png": "[encoded data removed]",
      "text/plain": [
       "<Figure size 1000x600 with 1 Axes>"
      ]
     },
     "metadata": {},
     "output_type": "display_data"
    }
   ],
   "source": [
    "# Create a histogram for the 'price' column\n",
    "plt.figure(figsize=(10, 6))\n",
    "plt.hist(df['price'], bins=50, edgecolor='k', alpha=0.7)\n",
    "plt.xlabel('Price')\n",
    "plt.ylabel('Frequency')\n",
    "plt.title('Histogram of House Prices')\n",
    "plt.show()"
   ]
  },
  {
   "cell_type": "markdown",
   "metadata": {},
   "source": [
    "From our graphical analysis, we have gained valuable insights into the relationships between various features and the target variable 'price.' These insights will be instrumental in guiding our feature selection and model building process.\n",
    "\n",
    "Correlation Coefficients between Price and Features graph: The graph revealed that features such as 'bathrooms,' 'sqft_living,' 'grade,' 'sqft_above,' and 'sqft_living15' have a strong positive correlation (greater than 0.5) with the house price. On the other hand, 'condition,' 'sqft_lot,' and 'yr_built' have the lowest correlation coefficients. This information will help us identify the most important predictors for our model.\n",
    "\n",
    "Scatterplot - Price vs. Sqft_Living: The scatterplot showed a positive linear relationship between 'price' and 'sqft_living,' along with numerous outliers for properties with living areas above 5,000 square feet. This observation suggests that we may need to address these outliers during data preprocessing.\n",
    "\n",
    "Boxplot - Price Distribution by Grade: The boxplot revealed that the price range tends to widen as the grade increases. We might consider dividing the dataset into separate segments, such as standard and luxury properties, or removing some high-end properties from the analysis to improve the model's performance for typical homes.\n",
    "\n",
    "Waterfront houses tends to have a better price value.\n",
    "The price of waterfront houses tends to be more disperse and the price of houses without waterfront tend to be more concentrated.\n",
    "Grade and waterfront effect price. View seem to effect less but it also has an effect on price.\n",
    "\n",
    "Histogram of House Prices: The histogram indicated that the distribution of house prices is approximately normal for properties valued under 1 million, with the majority of properties falling within this range. This insight can help inform our modeling approach and validate the performance of our final model on the typical range of house prices.\n",
    "\n",
    "In conclusion, our graphical analysis has provided a deeper understanding of the relationships between different features and house prices in King County. By leveraging these insights, we can make informed decisions during the feature selection and model building process, ultimately developing a more accurate and reliable model for predicting house prices."
   ]
  },
  {
   "cell_type": "code",
   "execution_count": 15,
   "metadata": {},
   "outputs": [
    {
     "data": {
      "text/html": [
       "<div>\n",
       "<style scoped>\n",
       "    .dataframe tbody tr th:only-of-type {\n",
       "        vertical-align: middle;\n",
       "    }\n",
       "\n",
       "    .dataframe tbody tr th {\n",
       "        vertical-align: top;\n",
       "    }\n",
       "\n",
       "    .dataframe thead th {\n",
       "        text-align: right;\n",
       "    }\n",
       "</style>\n",
       "<table border=\"1\" class=\"dataframe\">\n",
       "  <thead>\n",
       "    <tr style=\"text-align: right;\">\n",
       "      <th></th>\n",
       "      <th>count</th>\n",
       "      <th>mean</th>\n",
       "      <th>std</th>\n",
       "      <th>min</th>\n",
       "      <th>25%</th>\n",
       "      <th>50%</th>\n",
       "      <th>75%</th>\n",
       "      <th>max</th>\n",
       "    </tr>\n",
       "  </thead>\n",
       "  <tbody>\n",
       "    <tr>\n",
       "      <th>id</th>\n",
       "      <td>21613.0</td>\n",
       "      <td>4.580302e+09</td>\n",
       "      <td>2.876566e+09</td>\n",
       "      <td>1.000102e+06</td>\n",
       "      <td>2.123049e+09</td>\n",
       "      <td>3.904930e+09</td>\n",
       "      <td>7.308900e+09</td>\n",
       "      <td>9.900000e+09</td>\n",
       "    </tr>\n",
       "    <tr>\n",
       "      <th>price</th>\n",
       "      <td>21613.0</td>\n",
       "      <td>5.400881e+05</td>\n",
       "      <td>3.671272e+05</td>\n",
       "      <td>7.500000e+04</td>\n",
       "      <td>3.219500e+05</td>\n",
       "      <td>4.500000e+05</td>\n",
       "      <td>6.450000e+05</td>\n",
       "      <td>7.700000e+06</td>\n",
       "    </tr>\n",
       "    <tr>\n",
       "      <th>bedrooms</th>\n",
       "      <td>21613.0</td>\n",
       "      <td>3.370842e+00</td>\n",
       "      <td>9.300618e-01</td>\n",
       "      <td>0.000000e+00</td>\n",
       "      <td>3.000000e+00</td>\n",
       "      <td>3.000000e+00</td>\n",
       "      <td>4.000000e+00</td>\n",
       "      <td>3.300000e+01</td>\n",
       "    </tr>\n",
       "    <tr>\n",
       "      <th>bathrooms</th>\n",
       "      <td>21613.0</td>\n",
       "      <td>2.114757e+00</td>\n",
       "      <td>7.701632e-01</td>\n",
       "      <td>0.000000e+00</td>\n",
       "      <td>1.750000e+00</td>\n",
       "      <td>2.250000e+00</td>\n",
       "      <td>2.500000e+00</td>\n",
       "      <td>8.000000e+00</td>\n",
       "    </tr>\n",
       "    <tr>\n",
       "      <th>sqft_living</th>\n",
       "      <td>21613.0</td>\n",
       "      <td>2.079900e+03</td>\n",
       "      <td>9.184409e+02</td>\n",
       "      <td>2.900000e+02</td>\n",
       "      <td>1.427000e+03</td>\n",
       "      <td>1.910000e+03</td>\n",
       "      <td>2.550000e+03</td>\n",
       "      <td>1.354000e+04</td>\n",
       "    </tr>\n",
       "    <tr>\n",
       "      <th>sqft_lot</th>\n",
       "      <td>21613.0</td>\n",
       "      <td>1.510697e+04</td>\n",
       "      <td>4.142051e+04</td>\n",
       "      <td>5.200000e+02</td>\n",
       "      <td>5.040000e+03</td>\n",
       "      <td>7.618000e+03</td>\n",
       "      <td>1.068800e+04</td>\n",
       "      <td>1.651359e+06</td>\n",
       "    </tr>\n",
       "    <tr>\n",
       "      <th>floors</th>\n",
       "      <td>21613.0</td>\n",
       "      <td>1.494309e+00</td>\n",
       "      <td>5.399889e-01</td>\n",
       "      <td>1.000000e+00</td>\n",
       "      <td>1.000000e+00</td>\n",
       "      <td>1.500000e+00</td>\n",
       "      <td>2.000000e+00</td>\n",
       "      <td>3.500000e+00</td>\n",
       "    </tr>\n",
       "    <tr>\n",
       "      <th>waterfront</th>\n",
       "      <td>21613.0</td>\n",
       "      <td>7.541757e-03</td>\n",
       "      <td>8.651720e-02</td>\n",
       "      <td>0.000000e+00</td>\n",
       "      <td>0.000000e+00</td>\n",
       "      <td>0.000000e+00</td>\n",
       "      <td>0.000000e+00</td>\n",
       "      <td>1.000000e+00</td>\n",
       "    </tr>\n",
       "    <tr>\n",
       "      <th>view</th>\n",
       "      <td>21613.0</td>\n",
       "      <td>2.343034e-01</td>\n",
       "      <td>7.663176e-01</td>\n",
       "      <td>0.000000e+00</td>\n",
       "      <td>0.000000e+00</td>\n",
       "      <td>0.000000e+00</td>\n",
       "      <td>0.000000e+00</td>\n",
       "      <td>4.000000e+00</td>\n",
       "    </tr>\n",
       "    <tr>\n",
       "      <th>condition</th>\n",
       "      <td>21613.0</td>\n",
       "      <td>3.409430e+00</td>\n",
       "      <td>6.507430e-01</td>\n",
       "      <td>1.000000e+00</td>\n",
       "      <td>3.000000e+00</td>\n",
       "      <td>3.000000e+00</td>\n",
       "      <td>4.000000e+00</td>\n",
       "      <td>5.000000e+00</td>\n",
       "    </tr>\n",
       "    <tr>\n",
       "      <th>grade</th>\n",
       "      <td>21613.0</td>\n",
       "      <td>7.656873e+00</td>\n",
       "      <td>1.175459e+00</td>\n",
       "      <td>1.000000e+00</td>\n",
       "      <td>7.000000e+00</td>\n",
       "      <td>7.000000e+00</td>\n",
       "      <td>8.000000e+00</td>\n",
       "      <td>1.300000e+01</td>\n",
       "    </tr>\n",
       "    <tr>\n",
       "      <th>sqft_above</th>\n",
       "      <td>21613.0</td>\n",
       "      <td>1.788391e+03</td>\n",
       "      <td>8.280910e+02</td>\n",
       "      <td>2.900000e+02</td>\n",
       "      <td>1.190000e+03</td>\n",
       "      <td>1.560000e+03</td>\n",
       "      <td>2.210000e+03</td>\n",
       "      <td>9.410000e+03</td>\n",
       "    </tr>\n",
       "    <tr>\n",
       "      <th>sqft_basement</th>\n",
       "      <td>21613.0</td>\n",
       "      <td>2.915090e+02</td>\n",
       "      <td>4.425750e+02</td>\n",
       "      <td>0.000000e+00</td>\n",
       "      <td>0.000000e+00</td>\n",
       "      <td>0.000000e+00</td>\n",
       "      <td>5.600000e+02</td>\n",
       "      <td>4.820000e+03</td>\n",
       "    </tr>\n",
       "    <tr>\n",
       "      <th>yr_built</th>\n",
       "      <td>21613.0</td>\n",
       "      <td>1.971005e+03</td>\n",
       "      <td>2.937341e+01</td>\n",
       "      <td>1.900000e+03</td>\n",
       "      <td>1.951000e+03</td>\n",
       "      <td>1.975000e+03</td>\n",
       "      <td>1.997000e+03</td>\n",
       "      <td>2.015000e+03</td>\n",
       "    </tr>\n",
       "    <tr>\n",
       "      <th>yr_renovated</th>\n",
       "      <td>21613.0</td>\n",
       "      <td>8.440226e+01</td>\n",
       "      <td>4.016792e+02</td>\n",
       "      <td>0.000000e+00</td>\n",
       "      <td>0.000000e+00</td>\n",
       "      <td>0.000000e+00</td>\n",
       "      <td>0.000000e+00</td>\n",
       "      <td>2.015000e+03</td>\n",
       "    </tr>\n",
       "    <tr>\n",
       "      <th>lat</th>\n",
       "      <td>21613.0</td>\n",
       "      <td>4.756005e+01</td>\n",
       "      <td>1.385637e-01</td>\n",
       "      <td>4.715590e+01</td>\n",
       "      <td>4.747100e+01</td>\n",
       "      <td>4.757180e+01</td>\n",
       "      <td>4.767800e+01</td>\n",
       "      <td>4.777760e+01</td>\n",
       "    </tr>\n",
       "    <tr>\n",
       "      <th>long</th>\n",
       "      <td>21613.0</td>\n",
       "      <td>-1.222139e+02</td>\n",
       "      <td>1.408283e-01</td>\n",
       "      <td>-1.225190e+02</td>\n",
       "      <td>-1.223280e+02</td>\n",
       "      <td>-1.222300e+02</td>\n",
       "      <td>-1.221250e+02</td>\n",
       "      <td>-1.213150e+02</td>\n",
       "    </tr>\n",
       "    <tr>\n",
       "      <th>sqft_living15</th>\n",
       "      <td>21613.0</td>\n",
       "      <td>1.986552e+03</td>\n",
       "      <td>6.853913e+02</td>\n",
       "      <td>3.990000e+02</td>\n",
       "      <td>1.490000e+03</td>\n",
       "      <td>1.840000e+03</td>\n",
       "      <td>2.360000e+03</td>\n",
       "      <td>6.210000e+03</td>\n",
       "    </tr>\n",
       "    <tr>\n",
       "      <th>sqft_lot15</th>\n",
       "      <td>21613.0</td>\n",
       "      <td>1.276846e+04</td>\n",
       "      <td>2.730418e+04</td>\n",
       "      <td>6.510000e+02</td>\n",
       "      <td>5.100000e+03</td>\n",
       "      <td>7.620000e+03</td>\n",
       "      <td>1.008300e+04</td>\n",
       "      <td>8.712000e+05</td>\n",
       "    </tr>\n",
       "    <tr>\n",
       "      <th>year</th>\n",
       "      <td>21613.0</td>\n",
       "      <td>2.014323e+03</td>\n",
       "      <td>4.676160e-01</td>\n",
       "      <td>2.014000e+03</td>\n",
       "      <td>2.014000e+03</td>\n",
       "      <td>2.014000e+03</td>\n",
       "      <td>2.015000e+03</td>\n",
       "      <td>2.015000e+03</td>\n",
       "    </tr>\n",
       "    <tr>\n",
       "      <th>month</th>\n",
       "      <td>21613.0</td>\n",
       "      <td>6.574423e+00</td>\n",
       "      <td>3.115308e+00</td>\n",
       "      <td>1.000000e+00</td>\n",
       "      <td>4.000000e+00</td>\n",
       "      <td>6.000000e+00</td>\n",
       "      <td>9.000000e+00</td>\n",
       "      <td>1.200000e+01</td>\n",
       "    </tr>\n",
       "    <tr>\n",
       "      <th>zipcode_bin</th>\n",
       "      <td>21613.0</td>\n",
       "      <td>1.989405e+00</td>\n",
       "      <td>1.361344e+00</td>\n",
       "      <td>0.000000e+00</td>\n",
       "      <td>1.000000e+00</td>\n",
       "      <td>2.000000e+00</td>\n",
       "      <td>3.000000e+00</td>\n",
       "      <td>4.000000e+00</td>\n",
       "    </tr>\n",
       "  </tbody>\n",
       "</table>\n",
       "</div>"
      ],
      "text/plain": [
       "                 count          mean           std           min  \\\n",
       "id             21613.0  4.580302e+09  2.876566e+09  1.000102e+06   \n",
       "price          21613.0  5.400881e+05  3.671272e+05  7.500000e+04   \n",
       "bedrooms       21613.0  3.370842e+00  9.300618e-01  0.000000e+00   \n",
       "bathrooms      21613.0  2.114757e+00  7.701632e-01  0.000000e+00   \n",
       "sqft_living    21613.0  2.079900e+03  9.184409e+02  2.900000e+02   \n",
       "sqft_lot       21613.0  1.510697e+04  4.142051e+04  5.200000e+02   \n",
       "floors         21613.0  1.494309e+00  5.399889e-01  1.000000e+00   \n",
       "waterfront     21613.0  7.541757e-03  8.651720e-02  0.000000e+00   \n",
       "view           21613.0  2.343034e-01  7.663176e-01  0.000000e+00   \n",
       "condition      21613.0  3.409430e+00  6.507430e-01  1.000000e+00   \n",
       "grade          21613.0  7.656873e+00  1.175459e+00  1.000000e+00   \n",
       "sqft_above     21613.0  1.788391e+03  8.280910e+02  2.900000e+02   \n",
       "sqft_basement  21613.0  2.915090e+02  4.425750e+02  0.000000e+00   \n",
       "yr_built       21613.0  1.971005e+03  2.937341e+01  1.900000e+03   \n",
       "yr_renovated   21613.0  8.440226e+01  4.016792e+02  0.000000e+00   \n",
       "lat            21613.0  4.756005e+01  1.385637e-01  4.715590e+01   \n",
       "long           21613.0 -1.222139e+02  1.408283e-01 -1.225190e+02   \n",
       "sqft_living15  21613.0  1.986552e+03  6.853913e+02  3.990000e+02   \n",
       "sqft_lot15     21613.0  1.276846e+04  2.730418e+04  6.510000e+02   \n",
       "year           21613.0  2.014323e+03  4.676160e-01  2.014000e+03   \n",
       "month          21613.0  6.574423e+00  3.115308e+00  1.000000e+00   \n",
       "zipcode_bin    21613.0  1.989405e+00  1.361344e+00  0.000000e+00   \n",
       "\n",
       "                        25%           50%           75%           max  \n",
       "id             2.123049e+09  3.904930e+09  7.308900e+09  9.900000e+09  \n",
       "price          3.219500e+05  4.500000e+05  6.450000e+05  7.700000e+06  \n",
       "bedrooms       3.000000e+00  3.000000e+00  4.000000e+00  3.300000e+01  \n",
       "bathrooms      1.750000e+00  2.250000e+00  2.500000e+00  8.000000e+00  \n",
       "sqft_living    1.427000e+03  1.910000e+03  2.550000e+03  1.354000e+04  \n",
       "sqft_lot       5.040000e+03  7.618000e+03  1.068800e+04  1.651359e+06  \n",
       "floors         1.000000e+00  1.500000e+00  2.000000e+00  3.500000e+00  \n",
       "waterfront     0.000000e+00  0.000000e+00  0.000000e+00  1.000000e+00  \n",
       "view           0.000000e+00  0.000000e+00  0.000000e+00  4.000000e+00  \n",
       "condition      3.000000e+00  3.000000e+00  4.000000e+00  5.000000e+00  \n",
       "grade          7.000000e+00  7.000000e+00  8.000000e+00  1.300000e+01  \n",
       "sqft_above     1.190000e+03  1.560000e+03  2.210000e+03  9.410000e+03  \n",
       "sqft_basement  0.000000e+00  0.000000e+00  5.600000e+02  4.820000e+03  \n",
       "yr_built       1.951000e+03  1.975000e+03  1.997000e+03  2.015000e+03  \n",
       "yr_renovated   0.000000e+00  0.000000e+00  0.000000e+00  2.015000e+03  \n",
       "lat            4.747100e+01  4.757180e+01  4.767800e+01  4.777760e+01  \n",
       "long          -1.223280e+02 -1.222300e+02 -1.221250e+02 -1.213150e+02  \n",
       "sqft_living15  1.490000e+03  1.840000e+03  2.360000e+03  6.210000e+03  \n",
       "sqft_lot15     5.100000e+03  7.620000e+03  1.008300e+04  8.712000e+05  \n",
       "year           2.014000e+03  2.014000e+03  2.015000e+03  2.015000e+03  \n",
       "month          4.000000e+00  6.000000e+00  9.000000e+00  1.200000e+01  \n",
       "zipcode_bin    1.000000e+00  2.000000e+00  3.000000e+00  4.000000e+00  "
      ]
     },
     "execution_count": 15,
     "metadata": {},
     "output_type": "execute_result"
    }
   ],
   "source": [
    "# View data\n",
    "\n",
    "df.describe(include='all').transpose()"
   ]
  },
  {
   "cell_type": "code",
   "execution_count": 16,
   "metadata": {},
   "outputs": [
    {
     "name": "stdout",
     "output_type": "stream",
     "text": [
      "Missing data count for each column:\n",
      "id               0\n",
      "price            0\n",
      "bedrooms         0\n",
      "bathrooms        0\n",
      "sqft_living      0\n",
      "sqft_lot         0\n",
      "floors           0\n",
      "waterfront       0\n",
      "view             0\n",
      "condition        0\n",
      "grade            0\n",
      "sqft_above       0\n",
      "sqft_basement    0\n",
      "yr_built         0\n",
      "yr_renovated     0\n",
      "lat              0\n",
      "long             0\n",
      "sqft_living15    0\n",
      "sqft_lot15       0\n",
      "year             0\n",
      "month            0\n",
      "zipcode_bin      0\n",
      "dtype: int64\n"
     ]
    }
   ],
   "source": [
    "# Check for missing data in each column\n",
    "missing_data = df.isnull().sum()\n",
    "\n",
    "print(\"Missing data count for each column:\")\n",
    "print(missing_data)"
   ]
  },
  {
   "cell_type": "code",
   "execution_count": 17,
   "metadata": {},
   "outputs": [],
   "source": [
    "# Create feature and target variables\n",
    "target = df['price']\n",
    "features= df.drop('price', axis=1)"
   ]
  },
  {
   "cell_type": "code",
   "execution_count": 18,
   "metadata": {},
   "outputs": [
    {
     "name": "stdout",
     "output_type": "stream",
     "text": [
      "Number of features before dropping: 22\n",
      "Number of features after dropping: 13\n"
     ]
    }
   ],
   "source": [
    "# Identify features with correlation coefficients less than 0.1\n",
    "low_correlation_features = price_correlations[abs(price_correlations) < 0.1].index\n",
    "\n",
    "# Drop the specified features from the dataset\n",
    "features_filtered = features.drop(low_correlation_features, axis=1)\n",
    "\n",
    "print(f\"Number of features before dropping: {len(df.columns)}\")\n",
    "print(f\"Number of features after dropping: {len(features_filtered.columns)}\")"
   ]
  },
  {
   "cell_type": "code",
   "execution_count": 19,
   "metadata": {},
   "outputs": [
    {
     "data": {
      "text/plain": [
       "Index(['bedrooms', 'bathrooms', 'sqft_living', 'floors', 'waterfront', 'view',\n",
       "       'grade', 'sqft_above', 'sqft_basement', 'yr_renovated', 'lat',\n",
       "       'sqft_living15', 'zipcode_bin'],\n",
       "      dtype='object')"
      ]
     },
     "execution_count": 19,
     "metadata": {},
     "output_type": "execute_result"
    }
   ],
   "source": [
    "#View remaining columns\n",
    "features_filtered.columns"
   ]
  },
  {
   "cell_type": "markdown",
   "metadata": {},
   "source": [
    "Based on the correlation coefficients between the 'price' and other features, it is possible to identify the features with the lowest correlation to the target variable 'price'. Low correlation values indicate a weaker relationship with the target variable, and these features may not be as useful for predicting house prices."
   ]
  },
  {
   "cell_type": "code",
   "execution_count": 20,
   "metadata": {},
   "outputs": [],
   "source": [
    "# Remove 'lat' since that column is not useful\n",
    "features_filtered = features_filtered.drop('lat', axis = 1)"
   ]
  },
  {
   "cell_type": "code",
   "execution_count": 21,
   "metadata": {},
   "outputs": [
    {
     "name": "stdout",
     "output_type": "stream",
     "text": [
      "Training set size: 17290\n",
      "Testing set size: 4323\n"
     ]
    }
   ],
   "source": [
    "from sklearn.model_selection import train_test_split\n",
    "from sklearn.model_selection import cross_val_score\n",
    "from sklearn.pipeline import Pipeline\n",
    "from sklearn.model_selection import GridSearchCV\n",
    "from sklearn.preprocessing import StandardScaler, MinMaxScaler, RobustScaler\n",
    "from sklearn.linear_model import LinearRegression\n",
    "from sklearn.ensemble import RandomForestRegressor\n",
    "\n",
    "# Step 2: Split the dataset\n",
    "# Separate the target variable ('price') from the input features\n",
    "X = features_filtered\n",
    "y = target\n",
    "\n",
    "# Split the data into training (80%) and testing (20%) sets\n",
    "X_train, X_test, y_train, y_test = train_test_split(X, y, test_size=0.2, random_state=2)\n",
    "\n",
    "print(f\"Training set size: {len(X_train)}\")\n",
    "print(f\"Testing set size: {len(X_test)}\")"
   ]
  },
  {
   "cell_type": "code",
   "execution_count": 22,
   "metadata": {},
   "outputs": [],
   "source": [
    "# Define scaler\n",
    "scaler = MinMaxScaler()\n",
    "\n",
    "# fit and transfrom\n",
    "X_train_minmax = scaler.fit_transform(X_train)\n",
    "X_test_minmax = scaler.transform(X_test)"
   ]
  },
  {
   "cell_type": "code",
   "execution_count": 23,
   "metadata": {},
   "outputs": [
    {
     "name": "stdout",
     "output_type": "stream",
     "text": [
      "Mean Absolute Error (MAE): 121178.18298275386\n",
      "Mean Squared Error (MSE): 38490291583.424835\n",
      "Root Mean Squared Error (RMSE): 196189.427807476\n",
      "Variance Regression Score:  0.7244268855848384\n"
     ]
    }
   ],
   "source": [
    "from sklearn.metrics import explained_variance_score, mean_absolute_error, mean_squared_error\n",
    "from math import sqrt\n",
    "\n",
    "# Model selection\n",
    "# Start with a simple Linear Regression model\n",
    "ols = LinearRegression()\n",
    "\n",
    "# Model building\n",
    "# Fit the model to the training data\n",
    "ols.fit(X_train_minmax, y_train)\n",
    "\n",
    "# Make predictions on the test data\n",
    "y_pred = ols.predict(X_test_minmax)\n",
    "\n",
    "# Model evaluation\n",
    "# Calculate and print MAE, MSE, and RMSE\n",
    "mae = mean_absolute_error(y_test, y_pred)\n",
    "mse = mean_squared_error(y_test, y_pred)\n",
    "rmse = sqrt(mse)\n",
    "\n",
    "print(f\"Mean Absolute Error (MAE): {mae}\")\n",
    "print(f\"Mean Squared Error (MSE): {mse}\")\n",
    "print(f\"Root Mean Squared Error (RMSE): {rmse}\")\n",
    "print('Variance Regression Score: ',explained_variance_score(y_test,y_pred))\n"
   ]
  },
  {
   "cell_type": "markdown",
   "metadata": {},
   "source": [
    "Mean Absolute Error (MAE) is a measure of how far off our predictions are on average. An MAE of 121,178 means that on average, our model's predictions deviate from the actual prices by this amount. When compared to the mean price of 540,000, this error represents a relative error of about 22%, which may not be ideal depending on the accuracy requirements for your application. However, considering the broad range and potential variability in house prices, this may not be an altogether poor performance.\n",
    "\n",
    "The variance regression score, or explained variance score, you've quoted as 0.78 means that 78% of the variance in our target variable (house prices) is captured by our model. This suggests that while our model isn't perfect, it's doing a reasonable job of capturing the trend in our data. A score of 1.0 would mean our model explains all the variance, which is typically not possible with real-world data.\n",
    "\n",
    "The MSE represents the average of the squares of the errors, which means it measures the average squared difference between the estimated values and the actual value. In this case, an MSE of approximately 38,490,291,583 suggests that the model's predictions are, on average, quite different from the actual prices.\n",
    "\n",
    "The RMSE, on the other hand, is a measure of the differences between values predicted by a model or an estimator and the values observed. It is simply the square root of the mean square error. The benefit of the RMSE is that it is expressed in the same units as the output, making interpretation easier. An RMSE of approximately 196,189 means that, on average, the model's predictions are about $196,189 off from the actual prices.\n",
    "\n",
    "Considering the scale of house prices, these errors could be considered high, suggesting that there may be room for improvement in the model. We could try tuning the model's parameters, using a more complex model.\n",
    "\n",
    "It's also worth noting that if there are some particularly high-priced houses in the dataset, these could be influencing the high MSE and RMSE, since these metrics are sensitive to outliers. It might be worth exploring the data further to check for the presence of such outliers and consider appropriate handling of them.\n",
    "\n"
   ]
  },
  {
   "cell_type": "markdown",
   "metadata": {},
   "source": [
    "There are some houses with extra luxuries or in very poor conditions might effect our prediction models, we should consider removing some outliers in each grade to avoid this situation.\n",
    "\n",
    "The majority of housing prices fall within the range of 0 to 1,500,000. On average, houses are priced at around 540,000. It is worth considering excluding extreme values. For example, we can concentrate on houses priced between 0 and 3,000,000 and disregard the rest.\n",
    "\n",
    "There appears to be a favorable linear correlation between the price and the square footage of the living area. In general, an expansion in living space tends to correspond to an increase in the price of a house."
   ]
  },
  {
   "cell_type": "code",
   "execution_count": 24,
   "metadata": {},
   "outputs": [
    {
     "name": "stdout",
     "output_type": "stream",
     "text": [
      "Number of rows before removing outliers: 21613\n",
      "Number of rows after removing outliers: 20467\n"
     ]
    }
   ],
   "source": [
    "# Calculate the IQR for the 'price' column\n",
    "Q1 = df['price'].quantile(0.25)\n",
    "Q3 = df['price'].quantile(0.75)\n",
    "IQR = Q3 - Q1\n",
    "\n",
    "# Define the lower and upper bounds for outliers\n",
    "lower_bound = Q1 - 1.5 * IQR\n",
    "upper_bound = Q3 + 1.5 * IQR\n",
    "\n",
    "# Remove outliers from the dataset\n",
    "df_no_outliers = df[(df['price'] >= lower_bound) & (df['price'] <= upper_bound)]\n",
    "\n",
    "print(f\"Number of rows before removing outliers: {len(df)}\")\n",
    "print(f\"Number of rows after removing outliers: {len(df_no_outliers)}\")"
   ]
  },
  {
   "cell_type": "code",
   "execution_count": 25,
   "metadata": {},
   "outputs": [
    {
     "data": {
      "text/plain": [
       "count    2.046700e+04\n",
       "mean     4.769846e+05\n",
       "std      2.083713e+05\n",
       "min      7.500000e+04\n",
       "25%      3.150000e+05\n",
       "50%      4.375000e+05\n",
       "75%      6.000000e+05\n",
       "max      1.127500e+06\n",
       "Name: price, dtype: float64"
      ]
     },
     "execution_count": 25,
     "metadata": {},
     "output_type": "execute_result"
    }
   ],
   "source": [
    "# Preview price\n",
    "df_no_outliers['price'].describe()"
   ]
  },
  {
   "cell_type": "code",
   "execution_count": 26,
   "metadata": {},
   "outputs": [
    {
     "name": "stdout",
     "output_type": "stream",
     "text": [
      "Best parameters: {'scaler': RobustScaler()}\n"
     ]
    }
   ],
   "source": [
    "# Create pipline to decide which is the best scaler\n",
    "# Define the pipeline\n",
    "pipeline = Pipeline(steps=[('scaler', StandardScaler()), \n",
    "                           ('model', LinearRegression())])\n",
    "\n",
    "# Define the parameter grid\n",
    "param_grid = {\n",
    "    'scaler': [StandardScaler(), MinMaxScaler(), RobustScaler()]\n",
    "}\n",
    "\n",
    "# Initialize the grid search\n",
    "grid = GridSearchCV(pipeline, param_grid, cv=3, scoring='neg_mean_squared_error', n_jobs=-1)\n",
    "\n",
    "# Fit the grid search to the data\n",
    "grid.fit(X_train, y_train)\n",
    "\n",
    "# Get the best parameters\n",
    "print('Best parameters:', grid.best_params_)\n"
   ]
  },
  {
   "cell_type": "code",
   "execution_count": 27,
   "metadata": {},
   "outputs": [
    {
     "name": "stdout",
     "output_type": "stream",
     "text": [
      "Training set size: 16373\n",
      "Testing set size: 4094\n"
     ]
    }
   ],
   "source": [
    "# Separate the target variable ('price') from the input features\n",
    "X = df_no_outliers[['bedrooms', 'bathrooms', 'sqft_living', 'floors', 'waterfront', 'view',\n",
    "       'grade', 'sqft_above', 'sqft_basement', 'yr_renovated', 'lat',\n",
    "       'sqft_living15', 'zipcode_bin']]\n",
    "y = df_no_outliers['price']\n",
    "\n",
    "# Split the data into training (80%) and testing (20%) sets\n",
    "X_train, X_test, y_train, y_test = train_test_split(X, y, test_size=0.2, random_state=2)\n",
    "\n",
    "print(f\"Training set size: {len(X_train)}\")\n",
    "print(f\"Testing set size: {len(X_test)}\")"
   ]
  },
  {
   "cell_type": "markdown",
   "metadata": {},
   "source": [
    "Retrain the model with RobustScaler and new dataset with no outliers"
   ]
  },
  {
   "cell_type": "code",
   "execution_count": 28,
   "metadata": {},
   "outputs": [],
   "source": [
    "# Define scaler\n",
    "scaler = RobustScaler()\n",
    "\n",
    "# fit and transfrom\n",
    "X_train_ols = scaler.fit_transform(X_train)\n",
    "X_test_ols = scaler.transform(X_test)"
   ]
  },
  {
   "cell_type": "code",
   "execution_count": 31,
   "metadata": {},
   "outputs": [
    {
     "name": "stdout",
     "output_type": "stream",
     "text": [
      "Mean Absolute Error (MAE): 75062.32644144859\n",
      "Mean Squared Error (MSE): 10134413270.062012\n",
      "Root Mean Squared Error (RMSE): 100669.82303581353\n",
      "Variance Regression Score:  0.768722868405159\n"
     ]
    }
   ],
   "source": [
    "# Start with a simple Linear Regression model\n",
    "ols = LinearRegression()\n",
    "\n",
    "# Model building\n",
    "# Fit the model to the training data\n",
    "ols.fit(X_train_ols, y_train)\n",
    "\n",
    "# Make predictions on the test data\n",
    "y_pred_ols = ols.predict(X_test_ols)\n",
    "\n",
    "# Model evaluation\n",
    "# Calculate and print MAE, MSE, and RMSE\n",
    "mae = mean_absolute_error(y_test, y_pred_ols)\n",
    "mse = mean_squared_error(y_test, y_pred_ols)\n",
    "rmse = sqrt(mse)\n",
    "\n",
    "print(f\"Mean Absolute Error (MAE): {mae}\")\n",
    "print(f\"Mean Squared Error (MSE): {mse}\")\n",
    "print(f\"Root Mean Squared Error (RMSE): {rmse}\")\n",
    "print('Variance Regression Score: ',explained_variance_score(y_test,y_pred_ols))"
   ]
  },
  {
   "cell_type": "markdown",
   "metadata": {},
   "source": [
    "There is an improvement in new model but it is still far off from the original price. We can try to transform the target price or using other models to compare the results"
   ]
  },
  {
   "cell_type": "code",
   "execution_count": 32,
   "metadata": {},
   "outputs": [
    {
     "name": "stdout",
     "output_type": "stream",
     "text": [
      "Best parameters:  {'model__max_depth': None, 'model__min_samples_split': 10, 'model__n_estimators': 300}\n",
      "Mean Absolute Error (MAE): 60457.46584479031\n",
      "Mean Squared Error (MSE): 7299262950.940216\n",
      "Root Mean Squared Error (RMSE): 85435.72409092239\n",
      "Variance Regression Score:  0.8333592552489569\n"
     ]
    }
   ],
   "source": [
    "# Define a pipeline\n",
    "pipe_rf = Pipeline([('scaler', RobustScaler()),\n",
    "                 ('model', RandomForestRegressor(random_state=2))])\n",
    "\n",
    "# Define the hyperparameters for GridSearch\n",
    "param_grid_rf = {'model__n_estimators': [100, 200, 300],\n",
    "              'model__max_depth': [None, 5, 10],\n",
    "              'model__min_samples_split': [2, 5, 10]}\n",
    "\n",
    "# Initialize GridSearchCV\n",
    "grid_rf = GridSearchCV(pipe_rf, param_grid_rf, cv=5, n_jobs=-1)\n",
    "\n",
    "# Fit GridSearchCV\n",
    "grid_rf.fit(X_train, y_train)\n",
    "\n",
    "# Print the best parameters\n",
    "print(\"Best parameters: \", grid_rf.best_params_)\n",
    "\n",
    "# Predict on the test data\n",
    "y_pred_rf = grid_rf.predict(X_test)\n",
    "\n",
    "# Evaluate the model\n",
    "mae = mean_absolute_error(y_test, y_pred_rf)\n",
    "mse = mean_squared_error(y_test, y_pred_rf)\n",
    "rmse = sqrt(mse)\n",
    "\n",
    "print(f\"Mean Absolute Error (MAE): {mae}\")\n",
    "print(f\"Mean Squared Error (MSE): {mse}\")\n",
    "print(f\"Root Mean Squared Error (RMSE): {rmse}\")\n",
    "print('Variance Regression Score: ',explained_variance_score(y_test, y_pred_rf))\n"
   ]
  },
  {
   "cell_type": "markdown",
   "metadata": {},
   "source": [
    "Consider expanding the range of hyperparameters that I am searching over, or using a more advanced form of hyperparameter optimization, like Bayesian Optimization."
   ]
  },
  {
   "cell_type": "code",
   "execution_count": 34,
   "metadata": {},
   "outputs": [
    {
     "name": "stdout",
     "output_type": "stream",
     "text": [
      "Best parameters:  OrderedDict([('model__max_depth', None), ('model__min_samples_split', 5), ('model__n_estimators', 500)])\n",
      "Mean Absolute Error (MAE): 60312.21732560891\n",
      "Mean Squared Error (MSE): 7301874581.055775\n",
      "Root Mean Squared Error (RMSE): 85451.00690486786\n",
      "Variance Regression Score:  0.8333005465358895\n"
     ]
    }
   ],
   "source": [
    "from skopt import BayesSearchCV\n",
    "\n",
    "# Define a pipeline\n",
    "pipe_rf = Pipeline([('scaler', RobustScaler()),\n",
    "                 ('model', RandomForestRegressor(random_state=2))])\n",
    "\n",
    "# Define the hyperparameters for BayesSearch\n",
    "param_space_rf = {'model__n_estimators': (50, 500),\n",
    "              'model__max_depth': (None, 5, 15),\n",
    "              'model__min_samples_split': (2, 5, 10)}\n",
    "\n",
    "# Initialize BayesSearchCV\n",
    "bayes_rf = BayesSearchCV(pipe_rf, param_space_rf, cv=5, n_jobs=-1, n_iter=50)\n",
    "\n",
    "# Fit BayesSearchCV\n",
    "bayes_rf.fit(X_train, y_train)\n",
    "\n",
    "# Print the best parameters\n",
    "print(\"Best parameters: \", bayes_rf.best_params_)\n",
    "\n",
    "# Predict on the test data\n",
    "y_pred_rf = bayes_rf.predict(X_test)\n",
    "\n",
    "# Evaluate the model\n",
    "mae = mean_absolute_error(y_test, y_pred_rf)\n",
    "mse = mean_squared_error(y_test, y_pred_rf)\n",
    "rmse = sqrt(mse)\n",
    "\n",
    "print(f\"Mean Absolute Error (MAE): {mae}\")\n",
    "print(f\"Mean Squared Error (MSE): {mse}\")\n",
    "print(f\"Root Mean Squared Error (RMSE): {rmse}\")\n",
    "print('Variance Regression Score: ',explained_variance_score(y_test, y_pred_rf))\n"
   ]
  },
  {
   "cell_type": "markdown",
   "metadata": {},
   "source": [
    "Use a Neural Network for this regression problem. Creates a simple neural network with one hidden layer of 13 neurons (assuming you have 13 features, adjust according to your dataset) and a single output neuron for the regression problem.\n",
    "The model is compiled with the 'adam' optimizer and the mean squared error loss function, which is a standard for regression problems.\n",
    "The model is then trained for 50 epochs with a batch size of 5."
   ]
  },
  {
   "cell_type": "code",
   "execution_count": 35,
   "metadata": {},
   "outputs": [
    {
     "name": "stdout",
     "output_type": "stream",
     "text": [
      "Mean Absolute Error (MAE): 148526.70102777\n",
      "Mean Squared Error (MSE): 34385055703.85346\n",
      "Root Mean Squared Error (RMSE): 185432.07841108146\n",
      "Variance Regression Score:  0.35723002635911016\n"
     ]
    }
   ],
   "source": [
    "from keras.models import Sequential\n",
    "from keras.layers import Dense\n",
    "from keras.wrappers.scikit_learn import KerasRegressor\n",
    "from sklearn.preprocessing import StandardScaler\n",
    "from sklearn.pipeline import Pipeline\n",
    "\n",
    "# define base model\n",
    "def baseline_model():\n",
    "    # create model\n",
    "    model = Sequential()\n",
    "    model.add(Dense(13, input_dim=13, kernel_initializer='normal', activation='relu'))\n",
    "    model.add(Dense(1, kernel_initializer='normal'))\n",
    "    # Compile model\n",
    "    model.compile(loss='mean_squared_error', optimizer='adam')\n",
    "    return model\n",
    "\n",
    "# evaluate model with standardized dataset\n",
    "estimators = []\n",
    "estimators.append(('standardize', StandardScaler()))\n",
    "estimators.append(('mlp', KerasRegressor(build_fn=baseline_model, epochs=50, batch_size=5, verbose=0)))\n",
    "pipeline = Pipeline(estimators)\n",
    "pipeline.fit(X_train, y_train)\n",
    "\n",
    "# Predict on the test data\n",
    "y_pred_nn = pipeline.predict(X_test)\n",
    "\n",
    "# Evaluate the model\n",
    "mae = mean_absolute_error(y_test, y_pred_nn)\n",
    "mse = mean_squared_error(y_test, y_pred_nn)\n",
    "rmse = sqrt(mse)\n",
    "\n",
    "print(f\"Mean Absolute Error (MAE): {mae}\")\n",
    "print(f\"Mean Squared Error (MSE): {mse}\")\n",
    "print(f\"Root Mean Squared Error (RMSE): {rmse}\")\n",
    "print('Variance Regression Score: ',explained_variance_score(y_test, y_pred_nn))\n"
   ]
  },
  {
   "cell_type": "markdown",
   "metadata": {},
   "source": [
    "Use the K-nearest neighbors (KNN) regression model. We'll use a pipeline and grid search for hyperparameter tuning as before. We're searching over a few different options for the hyperparameters. The number of neighbors to consider (n_neighbors) is one of the most important settings for KNN. Similarly, the choice of distance metric and whether to weight points by their distance can have a significant impact on performance."
   ]
  },
  {
   "cell_type": "code",
   "execution_count": 36,
   "metadata": {},
   "outputs": [
    {
     "name": "stdout",
     "output_type": "stream",
     "text": [
      "Best parameters:  {'model__metric': 'manhattan', 'model__n_neighbors': 10, 'model__weights': 'distance'}\n",
      "Mean Absolute Error (MAE): 65886.30536615435\n",
      "Mean Squared Error (MSE): 8779952778.616392\n",
      "Root Mean Squared Error (RMSE): 93701.40222331996\n",
      "Variance Regression Score:  0.800280813270919\n"
     ]
    }
   ],
   "source": [
    "from sklearn.neighbors import KNeighborsRegressor\n",
    "\n",
    "# Define a pipeline\n",
    "pipe_knn = Pipeline([('scaler', RobustScaler()),\n",
    "                 ('model', KNeighborsRegressor())])\n",
    "\n",
    "# Define the hyperparameters for GridSearch\n",
    "param_grid_knn = {'model__n_neighbors': [3, 5, 7, 10],\n",
    "              'model__weights': ['uniform', 'distance'],\n",
    "              'model__metric': ['euclidean', 'manhattan']}\n",
    "\n",
    "# Initialize GridSearchCV\n",
    "grid_knn = GridSearchCV(pipe_knn, param_grid_knn, cv=5, n_jobs=-1)\n",
    "\n",
    "# Fit GridSearchCV\n",
    "grid_knn.fit(X_train, y_train)\n",
    "\n",
    "# Print the best parameters\n",
    "print(\"Best parameters: \", grid_knn.best_params_)\n",
    "\n",
    "# Predict on the test data\n",
    "y_pred_knn = grid_knn.predict(X_test)\n",
    "\n",
    "# Evaluate the model\n",
    "mae = mean_absolute_error(y_test, y_pred_knn)\n",
    "mse = mean_squared_error(y_test, y_pred_knn)\n",
    "rmse = sqrt(mse)\n",
    "\n",
    "print(f\"Mean Absolute Error (MAE): {mae}\")\n",
    "print(f\"Mean Squared Error (MSE): {mse}\")\n",
    "print(f\"Root Mean Squared Error (RMSE): {rmse}\")\n",
    "print('Variance Regression Score: ',explained_variance_score(y_test, y_pred_knn))\n"
   ]
  },
  {
   "cell_type": "markdown",
   "metadata": {},
   "source": [
    "\n",
    "In conclusion, our exploration of various models to predict house prices provided valuable insights but highlighted the necessity for further model refinement. The analysis confirmed that a range of features influences housing pricesour goal in this project was to develop a model capable of predicting housing prices based on a variety of features, including house size, location, and condition., with our most successful model being a Random Forest model. However, given the high degree of prediction errors, this model isn't ready for real-world deployment.\n",
    "\n",
    "After implementing and testing various models such as OLS, Random Forest Regressor, Neural Networks, and K-nearest Neighbors, the Random Forest model performed best, showing the least mean absolute error, mean squared error, and root mean squared error, along with the highest variance regression score. However, the model's error values still represent a significant amount of the actual house prices, which have a mean of 476,984 and standard deviation of 208,371, suggesting that there's room for improvement.\n",
    "\n",
    "To enhance predictive performance, my recommendation is to conduct a more thorough feature engineering and selection process, potentially introducing additional influential data. Advanced models or an ensemble of models could help better encapsulate the relationships in the data. Further tuning of hyperparameters in our existing models, particularly the Random Forest model, may yield improved results as well.\n",
    "\n",
    "We also identified potential challenges and opportunities. Accurately capturing the complexity of the real estate market, managing outliers, and ensuring generalizability to unseen data present considerable challenges. However, the opportunities are equally significant. Exploring more complex models, such as ensemble models or deep learning models, and incorporating external factors like economic indicators or neighborhood characteristics could improve the predictive capability of our model substantially.\n",
    "\n",
    "Overall, our current best model, the Random Forest, is a good starting point but not yet ready for deployment. To ready it for production, we'd need to enhance the model's performance to ensure that the predictions are reliable and useful in a real-world scenario. Future work should therefore focus on improving prediction accuracy and generalizability, which would bring us closer to our ultimate goal of providing accurate housing price predictions."
   ]
  },
  {
   "cell_type": "code",
   "execution_count": null,
   "metadata": {},
   "outputs": [],
   "source": []
  }
 ],
 "metadata": {
  "kernelspec": {
   "display_name": "Python 3 (ipykernel)",
   "language": "python",
   "name": "python3"
  },
  "language_info": {
   "codemirror_mode": {
    "name": "ipython",
    "version": 3
   },
   "file_extension": ".py",
   "mimetype": "text/x-python",
   "name": "python",
   "nbconvert_exporter": "python",
   "pygments_lexer": "ipython3",
   "version": "3.10.9"
  }
 },
 "nbformat": 4,
 "nbformat_minor": 2
}
